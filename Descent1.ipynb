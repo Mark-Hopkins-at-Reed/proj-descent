{
 "cells": [
  {
   "cell_type": "markdown",
   "metadata": {},
   "source": [
    "# Project 1: Descent"
   ]
  },
  {
   "cell_type": "markdown",
   "metadata": {},
   "source": [
    "In the 18th century, a Russian named Sergei Chekhov went to Africa to seek his fortune. He returned with the world's largest yellow diamond. He did not sell it, rather he traveled the globe, exhibiting the priceless jewel at museums and fairs. The diamond, dubbed Chekhov's Sun, caused a sensation."
   ]
  },
  {
   "cell_type": "markdown",
   "metadata": {},
   "source": [
    "![Attribution: Robert M. Lavinsky](./img/Diamond-dtn4a.jpg)\n",
    "<div style=\"text-align: center\">(attribution: Rob Lavinsky, [iRocks.com](http://irocks.com) – CC-BY-SA-3.0)</div>"
   ]
  },
  {
   "cell_type": "markdown",
   "metadata": {},
   "source": [
    "This proceeded for several months, until Chekhov abruptly canceled a North American tour and retreated from public life, and from life in general. He moved to a remote area of Siberia, where he lived the remainder of his life as an isolated hermit.\n",
    "\n",
    "Recently, some journals of his were discovered under a loose floorboard in his Siberian home. The journals indicate that, prior to the North American tour, he decided to return the diamond to the place he had discovered it: \"the lowest point of the lowest point of the Serengeti.\" Oddly, the journals do not explain why Chekhov did so. There is only some vague statement about \"wanting to close Pandora's box, to uneat the fruit of the knowledge of good and evil.\""
   ]
  },
  {
   "cell_type": "markdown",
   "metadata": {},
   "source": [
    "You've decided to try and recover Chekhov's Sun. What could go wrong? Luckily, the elevation of the Serengeti (in meters) at x degrees longitude and y degrees latitude is conveniently described by the following function:\n",
    "\n",
    "$f(x,y) = x^2 + y^2 - 70.7078x + 5.9792y  + 2658$\n",
    "\n",
    "If x is negative, then it indicates \"degrees west longitude\", and if y is negative then it indicates \"degrees south lattitude.\""
   ]
  },
  {
   "cell_type": "markdown",
   "metadata": {},
   "source": [
    "Find the lowest point of the Serengeti, using standard calculus techniques, in terms of lattitude and longitude. Then, enter the coordinates into Google Maps to find out where this is. For instance, to ask Google Maps where to find 48.8584 degrees north latitude and 2.2945 degrees east latitude, simply type  \n",
    "\n",
    "```48.8584N, 2.2945E```\n",
    "\n",
    "into the Google Maps search window. This gives you the Eiffel Tower:\n",
    "\n",
    "![Google Maps Eiffel Tower](./img/eiffel2.png)\n"
   ]
  },
  {
   "cell_type": "markdown",
   "metadata": {},
   "source": [
    "Where is Chekhov's Sun?"
   ]
  },
  {
   "cell_type": "code",
   "execution_count": 4,
   "metadata": {},
   "outputs": [
    {
     "data": {
      "text/plain": [
       "'Incorrect response! Try again.'"
      ]
     },
     "execution_count": 4,
     "metadata": {},
     "output_type": "execute_result"
    }
   ],
   "source": [
    "def submit(response):\n",
    "    import rpyc\n",
    "    c = rpyc.connect(\"localhost\", 18861)\n",
    "    return c.root.submit_response('q1', response)\n",
    "\n",
    "submit('YOUR ANSWER HERE') # fill this in"
   ]
  },
  {
   "cell_type": "code",
   "execution_count": null,
   "metadata": {},
   "outputs": [],
   "source": []
  }
 ],
 "metadata": {
  "kernelspec": {
   "display_name": "Python 3",
   "language": "python",
   "name": "python3"
  },
  "language_info": {
   "codemirror_mode": {
    "name": "ipython",
    "version": 3
   },
   "file_extension": ".py",
   "mimetype": "text/x-python",
   "name": "python",
   "nbconvert_exporter": "python",
   "pygments_lexer": "ipython3",
   "version": "3.6.5"
  }
 },
 "nbformat": 4,
 "nbformat_minor": 2
}
